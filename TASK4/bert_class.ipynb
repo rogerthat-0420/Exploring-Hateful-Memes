{
 "cells": [
  {
   "cell_type": "code",
   "execution_count": 5,
   "metadata": {},
   "outputs": [
    {
     "name": "stderr",
     "output_type": "stream",
     "text": [
      "Some weights of BertForSequenceClassification were not initialized from the model checkpoint at bert-base-uncased and are newly initialized: ['classifier.bias', 'classifier.weight']\n",
      "You should probably TRAIN this model on a down-stream task to be able to use it for predictions and inference.\n"
     ]
    },
    {
     "name": "stdout",
     "output_type": "stream",
     "text": [
      "Probabilities: [[0.39744728803634644, 0.6025527119636536]]\n",
      "Predicted class: LABEL_1\n",
      "Probabilities: [[0.39744728803634644, 0.6025527119636536]]\n"
     ]
    }
   ],
   "source": [
    "import torch\n",
    "from transformers import BertTokenizer, BertForSequenceClassification\n",
    "from torch.nn.functional import softmax\n",
    "\n",
    "# Load pre-trained BERT model and tokenizer\n",
    "model_name = 'bert-base-uncased'\n",
    "tokenizer = BertTokenizer.from_pretrained(model_name)\n",
    "model = BertForSequenceClassification.from_pretrained(model_name)\n",
    "\n",
    "# Example text for classification\n",
    "text = \"u are ugly\"\n",
    "\n",
    "# Tokenize and convert to tensor\n",
    "inputs = tokenizer(text, return_tensors=\"pt\")\n",
    "labels = torch.tensor([1]).unsqueeze(0)  # Replace 1 with the actual label for your use case\n",
    "\n",
    "# Forward pass\n",
    "outputs = model(**inputs, labels=labels)\n",
    "\n",
    "# Get predictions and probabilities\n",
    "logits = outputs.logits\n",
    "probabilities = softmax(logits, dim=1)\n",
    "\n",
    "# Print the predicted label and probabilities\n",
    "predicted_label = torch.argmax(probabilities).item()\n",
    "predicted_class = model.config.id2label[predicted_label]\n",
    "print(f\"Probabilities: {probabilities.tolist()}\")\n",
    "print(f\"Predicted class: {predicted_class}\")\n",
    "print(f\"Probabilities: {probabilities.tolist()}\")\n"
   ]
  },
  {
   "cell_type": "code",
   "execution_count": 11,
   "metadata": {},
   "outputs": [
    {
     "name": "stderr",
     "output_type": "stream",
     "text": [
      "Some weights of BertForSequenceClassification were not initialized from the model checkpoint at bert-base-uncased and are newly initialized: ['classifier.bias', 'classifier.weight']\n",
      "You should probably TRAIN this model on a down-stream task to be able to use it for predictions and inference.\n"
     ]
    },
    {
     "name": "stdout",
     "output_type": "stream",
     "text": [
      "Predicted class: Good\n",
      "Probabilities: [[0.2709813416004181, 0.30997443199157715, 0.4190441966056824]]\n"
     ]
    }
   ],
   "source": [
    "import torch\n",
    "from transformers import BertTokenizer, BertForSequenceClassification\n",
    "from torch.nn.functional import softmax\n",
    "\n",
    "# Load pre-trained BERT model and tokenizer\n",
    "model_name = 'bert-base-uncased'\n",
    "tokenizer = BertTokenizer.from_pretrained(model_name)\n",
    "model = BertForSequenceClassification.from_pretrained(model_name, num_labels=3)\n",
    "\n",
    "# Load your fine-tuned model weights if available\n",
    "# model.load_state_dict(torch.load(\"fine_tuned_bert_model.pth\"))\n",
    "\n",
    "# Example text for classification\n",
    "text = \"if there is no race it can't be homicide\"\n",
    "\n",
    "# Tokenize and convert to tensor\n",
    "inputs = tokenizer(text, return_tensors=\"pt\")\n",
    "\n",
    "# Forward pass\n",
    "outputs = model(**inputs)\n",
    "\n",
    "# Get predictions and probabilities\n",
    "logits = outputs.logits\n",
    "probabilities = softmax(logits, dim=1)\n",
    "\n",
    "# Print the predicted label and probabilities\n",
    "predicted_label = torch.argmax(probabilities).item()\n",
    "\n",
    "labels_map = {0: \"Hateful\", 1: \"Neutral\", 2: \"Good\"}\n",
    "predicted_class = labels_map[predicted_label]\n",
    "\n",
    "print(f\"Predicted class: {predicted_class}\")\n",
    "print(f\"Probabilities: {probabilities.tolist()}\")\n"
   ]
  }
 ],
 "metadata": {
  "kernelspec": {
   "display_name": "Python 3",
   "language": "python",
   "name": "python3"
  },
  "language_info": {
   "codemirror_mode": {
    "name": "ipython",
    "version": 3
   },
   "file_extension": ".py",
   "mimetype": "text/x-python",
   "name": "python",
   "nbconvert_exporter": "python",
   "pygments_lexer": "ipython3",
   "version": "3.10.12"
  }
 },
 "nbformat": 4,
 "nbformat_minor": 2
}
